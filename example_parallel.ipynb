{
 "cells": [
  {
   "cell_type": "code",
   "execution_count": 1,
   "metadata": {
    "ExecuteTime": {
     "end_time": "2017-05-17T22:51:43.417836Z",
     "start_time": "2017-05-17T22:51:42.213646Z"
    },
    "collapsed": true
   },
   "outputs": [],
   "source": [
    "import multiprocessing\n",
    "import shutil\n",
    "\n",
    "import sklearn.model_selection\n",
    "import sklearn.datasets\n",
    "import sklearn.metrics\n",
    "\n",
    "from autosklearn.metrics import accuracy\n",
    "from autosklearn.classification import AutoSklearnClassifier\n",
    "from autosklearn.constants import *"
   ]
  },
  {
   "cell_type": "code",
   "execution_count": 2,
   "metadata": {
    "ExecuteTime": {
     "end_time": "2017-05-17T22:51:53.935283Z",
     "start_time": "2017-05-17T22:51:53.922009Z"
    },
    "collapsed": true
   },
   "outputs": [],
   "source": [
    "tmp_folder = '/tmp/autosklearn_parallel_example_tmp'\n",
    "output_folder = '/tmp/autosklearn_parallel_example_out'\n",
    "\n",
    "\n",
    "for dir in [tmp_folder, output_folder]:\n",
    "    try:\n",
    "        shutil.rmtree(dir)\n",
    "    except OSError as e:\n",
    "        pass"
   ]
  },
  {
   "cell_type": "code",
   "execution_count": 3,
   "metadata": {
    "ExecuteTime": {
     "end_time": "2017-05-17T22:52:07.656706Z",
     "start_time": "2017-05-17T22:52:07.632658Z"
    },
    "collapsed": true
   },
   "outputs": [],
   "source": [
    "def spawn_classifier(seed, dataset_name):\n",
    "    \"\"\"Spawn a subprocess.\n",
    "    auto-sklearn does not take care of spawning worker processes. This\n",
    "    function, which is called several times in the main block is a new\n",
    "    process which runs one instance of auto-sklearn.\n",
    "    \"\"\"\n",
    "\n",
    "    # Use the initial configurations from meta-learning only in one out of\n",
    "    # the four processes spawned. This prevents auto-sklearn from evaluating\n",
    "    # the same configurations in four processes.\n",
    "    if seed == 0:\n",
    "        initial_configurations_via_metalearning = 25\n",
    "    else:\n",
    "        initial_configurations_via_metalearning = 0\n",
    "\n",
    "    # Arguments which are different to other runs of auto-sklearn:\n",
    "    # 1. all classifiers write to the same output directory\n",
    "    # 2. shared_mode is set to True, this enables sharing of data between\n",
    "    # models.\n",
    "    # 3. all instances of the AutoSklearnClassifier must have a different seed!\n",
    "    automl = AutoSklearnClassifier(\n",
    "        time_left_for_this_task=60, # sec., how long should this seed fit\n",
    "        # process run\n",
    "        per_run_time_limit=15, # sec., each model may only take this long before it's killed\n",
    "        ml_memory_limit=1024, # MB, memory limit imposed on each call to a ML algorithm\n",
    "        shared_mode=True, # tmp folder will be shared between seeds\n",
    "        tmp_folder=tmp_folder,\n",
    "        output_folder=output_folder,\n",
    "        delete_tmp_folder_after_terminate=False,\n",
    "        ensemble_size=0, # ensembles will be built when all optimization runs are finished\n",
    "        initial_configurations_via_metalearning=initial_configurations_via_metalearning,\n",
    "        seed=seed)\n",
    "    automl.fit(X_train, y_train, dataset_name=dataset_name)"
   ]
  },
  {
   "cell_type": "code",
   "execution_count": 4,
   "metadata": {
    "ExecuteTime": {
     "end_time": "2017-05-17T22:53:24.871701Z",
     "start_time": "2017-05-17T22:52:23.556041Z"
    }
   },
   "outputs": [
    {
     "name": "stdout",
     "output_type": "stream",
     "text": [
      "Starting to build an ensemble!\n",
      "[(0.950000, MyDummyClassifier(configuration=1, init_params=None, random_state=None)),\n",
      "(0.050000, SimpleClassificationPipeline({'classifier:liblinear_svc:C': 9901.884556489502, 'preprocessor:polynomial:interaction_only': 'False', 'one_hot_encoding:use_minimum_fraction': 'True', 'classifier:liblinear_svc:intercept_scaling': 1, 'rescaling:__choice__': 'minmax', 'preprocessor:__choice__': 'polynomial', 'classifier:liblinear_svc:multi_class': 'ovr', 'classifier:liblinear_svc:loss': 'squared_hinge', 'imputation:strategy': 'mean', 'preprocessor:polynomial:include_bias': 'False', 'classifier:liblinear_svc:fit_intercept': 'True', 'one_hot_encoding:minimum_fraction': 0.010000000000000004, 'balancing:strategy': 'none', 'classifier:__choice__': 'liblinear_svc', 'preprocessor:polynomial:degree': 2, 'classifier:liblinear_svc:penalty': 'l2', 'classifier:liblinear_svc:tol': 0.0023772047112092503, 'classifier:liblinear_svc:dual': 'False'},\n",
      "dataset_properties={\n",
      "  'signed': False,\n",
      "  'multilabel': False,\n",
      "  'task': 2,\n",
      "  'sparse': False,\n",
      "  'multiclass': True,\n",
      "  'target_type': 'classification'})),\n",
      "]\n",
      "Accuracy score 0.984444444444\n"
     ]
    }
   ],
   "source": [
    "X, y = sklearn.datasets.load_digits(return_X_y=True)\n",
    "X_train, X_test, y_train, y_test = \\\n",
    "    sklearn.model_selection.train_test_split(X, y, random_state=1)\n",
    "\n",
    "processes = []\n",
    "for i in range(4): # set this at roughly half of your cores\n",
    "    p = multiprocessing.Process(target=spawn_classifier, args=(i, 'digits'))\n",
    "    p.start()\n",
    "    processes.append(p)\n",
    "for p in processes:\n",
    "    p.join()\n",
    "\n",
    "print('Starting to build an ensemble!')\n",
    "automl = AutoSklearnClassifier(time_left_for_this_task=15,\n",
    "                               per_run_time_limit=15,\n",
    "                               ml_memory_limit=1024,\n",
    "                               shared_mode=True,\n",
    "                               ensemble_size=50,\n",
    "                               ensemble_nbest=200,\n",
    "                               tmp_folder=tmp_folder,\n",
    "                               output_folder=output_folder,\n",
    "                               initial_configurations_via_metalearning=0,\n",
    "                               seed=1)\n",
    "\n",
    "# Both the ensemble_size and ensemble_nbest parameters can be changed now if\n",
    "# necessary\n",
    "automl.fit_ensemble(y_train,\n",
    "                    task=MULTICLASS_CLASSIFICATION,\n",
    "                    metric=accuracy,\n",
    "                    precision='32',\n",
    "                    dataset_name='digits',\n",
    "                    ensemble_size=20,\n",
    "                    ensemble_nbest=50)\n",
    "\n",
    "predictions = automl.predict(X_test)\n",
    "print(automl.show_models())\n",
    "print(\"Accuracy score\", sklearn.metrics.accuracy_score(y_test, predictions))"
   ]
  },
  {
   "cell_type": "code",
   "execution_count": null,
   "metadata": {
    "collapsed": true
   },
   "outputs": [],
   "source": []
  }
 ],
 "metadata": {
  "kernelspec": {
   "display_name": "Python 3",
   "language": "python",
   "name": "python3"
  },
  "language_info": {
   "codemirror_mode": {
    "name": "ipython",
    "version": 3
   },
   "file_extension": ".py",
   "mimetype": "text/x-python",
   "name": "python",
   "nbconvert_exporter": "python",
   "pygments_lexer": "ipython3",
   "version": "3.5.3"
  },
  "latex_envs": {
   "bibliofile": "biblio.bib",
   "cite_by": "apalike",
   "current_citInitial": 1,
   "eqLabelWithNumbers": true,
   "eqNumInitial": 0
  },
  "toc": {
   "nav_menu": {
    "height": "12px",
    "width": "252px"
   },
   "navigate_menu": true,
   "number_sections": true,
   "sideBar": true,
   "threshold": 4,
   "toc_cell": false,
   "toc_section_display": "block",
   "toc_window_display": false
  }
 },
 "nbformat": 4,
 "nbformat_minor": 2
}
