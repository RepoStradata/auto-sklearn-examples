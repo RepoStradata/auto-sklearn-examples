{
 "cells": [
  {
   "cell_type": "code",
   "execution_count": 1,
   "metadata": {
    "ExecuteTime": {
     "end_time": "2017-05-17T23:48:58.675210Z",
     "start_time": "2017-05-17T23:48:57.411976Z"
    },
    "collapsed": true
   },
   "outputs": [],
   "source": [
    "import pandas as pd\n",
    "\n",
    "import sklearn.model_selection\n",
    "import sklearn.datasets\n",
    "import sklearn.metrics\n",
    "\n",
    "import autosklearn.regression"
   ]
  },
  {
   "cell_type": "code",
   "execution_count": 2,
   "metadata": {
    "ExecuteTime": {
     "end_time": "2017-05-17T23:48:58.696440Z",
     "start_time": "2017-05-17T23:48:58.677384Z"
    },
    "collapsed": true
   },
   "outputs": [],
   "source": [
    "X, y = sklearn.datasets.load_boston(return_X_y=True)"
   ]
  },
  {
   "cell_type": "code",
   "execution_count": 3,
   "metadata": {
    "ExecuteTime": {
     "end_time": "2017-05-17T23:48:58.753469Z",
     "start_time": "2017-05-17T23:48:58.699231Z"
    },
    "scrolled": true
   },
   "outputs": [
    {
     "data": {
      "text/html": [
       "<div>\n",
       "<style>\n",
       "    .dataframe thead tr:only-child th {\n",
       "        text-align: right;\n",
       "    }\n",
       "\n",
       "    .dataframe thead th {\n",
       "        text-align: left;\n",
       "    }\n",
       "\n",
       "    .dataframe tbody tr th {\n",
       "        vertical-align: top;\n",
       "    }\n",
       "</style>\n",
       "<table border=\"1\" class=\"dataframe\">\n",
       "  <thead>\n",
       "    <tr style=\"text-align: right;\">\n",
       "      <th></th>\n",
       "      <th>0</th>\n",
       "      <th>1</th>\n",
       "      <th>2</th>\n",
       "      <th>3</th>\n",
       "      <th>4</th>\n",
       "      <th>5</th>\n",
       "      <th>6</th>\n",
       "      <th>7</th>\n",
       "      <th>8</th>\n",
       "      <th>9</th>\n",
       "      <th>10</th>\n",
       "      <th>11</th>\n",
       "      <th>12</th>\n",
       "    </tr>\n",
       "  </thead>\n",
       "  <tbody>\n",
       "    <tr>\n",
       "      <th>0</th>\n",
       "      <td>0.00632</td>\n",
       "      <td>18.0</td>\n",
       "      <td>2.31</td>\n",
       "      <td>0.0</td>\n",
       "      <td>0.538</td>\n",
       "      <td>6.575</td>\n",
       "      <td>65.2</td>\n",
       "      <td>4.0900</td>\n",
       "      <td>1.0</td>\n",
       "      <td>296.0</td>\n",
       "      <td>15.3</td>\n",
       "      <td>396.90</td>\n",
       "      <td>4.98</td>\n",
       "    </tr>\n",
       "    <tr>\n",
       "      <th>1</th>\n",
       "      <td>0.02731</td>\n",
       "      <td>0.0</td>\n",
       "      <td>7.07</td>\n",
       "      <td>0.0</td>\n",
       "      <td>0.469</td>\n",
       "      <td>6.421</td>\n",
       "      <td>78.9</td>\n",
       "      <td>4.9671</td>\n",
       "      <td>2.0</td>\n",
       "      <td>242.0</td>\n",
       "      <td>17.8</td>\n",
       "      <td>396.90</td>\n",
       "      <td>9.14</td>\n",
       "    </tr>\n",
       "    <tr>\n",
       "      <th>2</th>\n",
       "      <td>0.02729</td>\n",
       "      <td>0.0</td>\n",
       "      <td>7.07</td>\n",
       "      <td>0.0</td>\n",
       "      <td>0.469</td>\n",
       "      <td>7.185</td>\n",
       "      <td>61.1</td>\n",
       "      <td>4.9671</td>\n",
       "      <td>2.0</td>\n",
       "      <td>242.0</td>\n",
       "      <td>17.8</td>\n",
       "      <td>392.83</td>\n",
       "      <td>4.03</td>\n",
       "    </tr>\n",
       "    <tr>\n",
       "      <th>3</th>\n",
       "      <td>0.03237</td>\n",
       "      <td>0.0</td>\n",
       "      <td>2.18</td>\n",
       "      <td>0.0</td>\n",
       "      <td>0.458</td>\n",
       "      <td>6.998</td>\n",
       "      <td>45.8</td>\n",
       "      <td>6.0622</td>\n",
       "      <td>3.0</td>\n",
       "      <td>222.0</td>\n",
       "      <td>18.7</td>\n",
       "      <td>394.63</td>\n",
       "      <td>2.94</td>\n",
       "    </tr>\n",
       "    <tr>\n",
       "      <th>4</th>\n",
       "      <td>0.06905</td>\n",
       "      <td>0.0</td>\n",
       "      <td>2.18</td>\n",
       "      <td>0.0</td>\n",
       "      <td>0.458</td>\n",
       "      <td>7.147</td>\n",
       "      <td>54.2</td>\n",
       "      <td>6.0622</td>\n",
       "      <td>3.0</td>\n",
       "      <td>222.0</td>\n",
       "      <td>18.7</td>\n",
       "      <td>396.90</td>\n",
       "      <td>5.33</td>\n",
       "    </tr>\n",
       "  </tbody>\n",
       "</table>\n",
       "</div>"
      ],
      "text/plain": [
       "        0     1     2    3      4      5     6       7    8      9     10  \\\n",
       "0  0.00632  18.0  2.31  0.0  0.538  6.575  65.2  4.0900  1.0  296.0  15.3   \n",
       "1  0.02731   0.0  7.07  0.0  0.469  6.421  78.9  4.9671  2.0  242.0  17.8   \n",
       "2  0.02729   0.0  7.07  0.0  0.469  7.185  61.1  4.9671  2.0  242.0  17.8   \n",
       "3  0.03237   0.0  2.18  0.0  0.458  6.998  45.8  6.0622  3.0  222.0  18.7   \n",
       "4  0.06905   0.0  2.18  0.0  0.458  7.147  54.2  6.0622  3.0  222.0  18.7   \n",
       "\n",
       "       11    12  \n",
       "0  396.90  4.98  \n",
       "1  396.90  9.14  \n",
       "2  392.83  4.03  \n",
       "3  394.63  2.94  \n",
       "4  396.90  5.33  "
      ]
     },
     "execution_count": 3,
     "metadata": {},
     "output_type": "execute_result"
    }
   ],
   "source": [
    "pd.DataFrame(X).head()"
   ]
  },
  {
   "cell_type": "code",
   "execution_count": 4,
   "metadata": {
    "ExecuteTime": {
     "end_time": "2017-05-17T23:48:58.772240Z",
     "start_time": "2017-05-17T23:48:58.755213Z"
    },
    "scrolled": true
   },
   "outputs": [
    {
     "data": {
      "text/html": [
       "<div>\n",
       "<style>\n",
       "    .dataframe thead tr:only-child th {\n",
       "        text-align: right;\n",
       "    }\n",
       "\n",
       "    .dataframe thead th {\n",
       "        text-align: left;\n",
       "    }\n",
       "\n",
       "    .dataframe tbody tr th {\n",
       "        vertical-align: top;\n",
       "    }\n",
       "</style>\n",
       "<table border=\"1\" class=\"dataframe\">\n",
       "  <thead>\n",
       "    <tr style=\"text-align: right;\">\n",
       "      <th></th>\n",
       "      <th>0</th>\n",
       "    </tr>\n",
       "  </thead>\n",
       "  <tbody>\n",
       "    <tr>\n",
       "      <th>0</th>\n",
       "      <td>24.0</td>\n",
       "    </tr>\n",
       "    <tr>\n",
       "      <th>1</th>\n",
       "      <td>21.6</td>\n",
       "    </tr>\n",
       "    <tr>\n",
       "      <th>2</th>\n",
       "      <td>34.7</td>\n",
       "    </tr>\n",
       "    <tr>\n",
       "      <th>3</th>\n",
       "      <td>33.4</td>\n",
       "    </tr>\n",
       "    <tr>\n",
       "      <th>4</th>\n",
       "      <td>36.2</td>\n",
       "    </tr>\n",
       "  </tbody>\n",
       "</table>\n",
       "</div>"
      ],
      "text/plain": [
       "      0\n",
       "0  24.0\n",
       "1  21.6\n",
       "2  34.7\n",
       "3  33.4\n",
       "4  36.2"
      ]
     },
     "execution_count": 4,
     "metadata": {},
     "output_type": "execute_result"
    }
   ],
   "source": [
    "pd.DataFrame(y).head()"
   ]
  },
  {
   "cell_type": "markdown",
   "metadata": {},
   "source": [
    "## feat_type : list, optional (default=None)\n",
    "List of str of len(X.shape[1]) describing the attribute type. Possible types are Categorical and Numerical. Categorical attributes will be automatically One-Hot encoded. The values used for a categorical attribute must be integers, obtained for example by sklearn.preprocessing.LabelEncoder."
   ]
  },
  {
   "cell_type": "code",
   "execution_count": 5,
   "metadata": {
    "ExecuteTime": {
     "end_time": "2017-05-17T23:50:54.690553Z",
     "start_time": "2017-05-17T23:48:58.774626Z"
    },
    "scrolled": false
   },
   "outputs": [
    {
     "name": "stdout",
     "output_type": "stream",
     "text": [
      "[WARNING] [2017-05-17 16:49:00,137:AutoMLSMBO(1)::boston] Could not find meta-data directory /Users/yuishikawa/anaconda3/envs/python3.5/lib/python3.5/site-packages/autosklearn/metalearning/files/r2_regression_dense\n"
     ]
    },
    {
     "name": "stderr",
     "output_type": "stream",
     "text": [
      "You are already timing task: index_run2\n",
      "You are already timing task: index_run2\n",
      "You are already timing task: index_run2\n",
      "You are already timing task: index_run2\n",
      "You are already timing task: index_run3\n",
      "You are already timing task: index_run3\n",
      "You are already timing task: index_run3\n",
      "You are already timing task: index_run3\n",
      "You are already timing task: index_run3\n",
      "You are already timing task: index_run3\n",
      "You are already timing task: index_run3\n",
      "You are already timing task: index_run3\n",
      "You are already timing task: index_run3\n",
      "You are already timing task: index_run4\n",
      "You are already timing task: index_run4\n",
      "You are already timing task: index_run4\n",
      "You are already timing task: index_run4\n",
      "You are already timing task: index_run4\n",
      "You are already timing task: index_run4\n",
      "You are already timing task: index_run6\n",
      "You are already timing task: index_run7\n"
     ]
    },
    {
     "name": "stdout",
     "output_type": "stream",
     "text": [
      "[(0.380000, SimpleRegressionPipeline({'imputation:strategy': 'most_frequent', 'one_hot_encoding:use_minimum_fraction': 'True', 'regressor:ridge_regression:fit_intercept': 'True', 'regressor:ridge_regression:alpha': 4.110147069014959, 'preprocessor:random_trees_embedding:min_weight_fraction_leaf': 1.0, 'preprocessor:random_trees_embedding:n_estimators': 56, 'preprocessor:random_trees_embedding:max_leaf_nodes': 'None', 'regressor:ridge_regression:tol': 0.003182277286417395, 'preprocessor:random_trees_embedding:max_depth': 6, 'one_hot_encoding:minimum_fraction': 0.00017301224964059824, 'regressor:__choice__': 'ridge_regression', 'rescaling:__choice__': 'standardize', 'preprocessor:__choice__': 'random_trees_embedding', 'preprocessor:random_trees_embedding:min_samples_split': 17, 'preprocessor:random_trees_embedding:min_samples_leaf': 4},\n",
      "dataset_properties={\n",
      "  'multilabel': False,\n",
      "  'signed': False,\n",
      "  'sparse': False,\n",
      "  'target_type': 'regression',\n",
      "  'task': 4,\n",
      "  'multiclass': False})),\n",
      "(0.340000, SimpleRegressionPipeline({'imputation:strategy': 'most_frequent', 'one_hot_encoding:use_minimum_fraction': 'True', 'regressor:ard_regression:alpha_2': 4.3020038058803154e-10, 'preprocessor:polynomial:include_bias': 'True', 'regressor:ard_regression:threshold_lambda': 61537.90372769518, 'regressor:ard_regression:alpha_1': 0.0003601305982176899, 'regressor:ard_regression:fit_intercept': 'True', 'preprocessor:polynomial:interaction_only': 'True', 'one_hot_encoding:minimum_fraction': 0.08723361471011107, 'regressor:__choice__': 'ard_regression', 'regressor:ard_regression:n_iter': 300, 'regressor:ard_regression:lambda_2': 3.7201754881621166e-10, 'preprocessor:polynomial:degree': 2, 'rescaling:__choice__': 'standardize', 'preprocessor:__choice__': 'polynomial', 'regressor:ard_regression:lambda_1': 4.4477501160002055e-08, 'regressor:ard_regression:tol': 0.0038545598913109196},\n",
      "dataset_properties={\n",
      "  'multilabel': False,\n",
      "  'signed': False,\n",
      "  'sparse': False,\n",
      "  'target_type': 'regression',\n",
      "  'task': 4,\n",
      "  'multiclass': False})),\n",
      "(0.240000, SimpleRegressionPipeline({'imputation:strategy': 'mean', 'one_hot_encoding:use_minimum_fraction': 'True', 'regressor:random_forest:max_features': 1.0, 'regressor:random_forest:min_samples_split': 2, 'regressor:random_forest:max_leaf_nodes': 'None', 'one_hot_encoding:minimum_fraction': 0.01, 'regressor:random_forest:min_weight_fraction_leaf': 0.0, 'regressor:__choice__': 'random_forest', 'regressor:random_forest:n_estimators': 100, 'regressor:random_forest:max_depth': 'None', 'regressor:random_forest:bootstrap': 'True', 'rescaling:__choice__': 'standardize', 'preprocessor:__choice__': 'no_preprocessing', 'regressor:random_forest:criterion': 'mse', 'regressor:random_forest:min_samples_leaf': 1},\n",
      "dataset_properties={\n",
      "  'multilabel': False,\n",
      "  'signed': False,\n",
      "  'sparse': False,\n",
      "  'target_type': 'regression',\n",
      "  'task': 4,\n",
      "  'multiclass': False})),\n",
      "(0.040000, SimpleRegressionPipeline({'regressor:gradient_boosting:alpha': 0.9754608995615289, 'regressor:gradient_boosting:learning_rate': 0.14820187789174838, 'regressor:gradient_boosting:max_depth': 3, 'preprocessor:extra_trees_preproc_for_regression:min_samples_split': 20, 'preprocessor:extra_trees_preproc_for_regression:bootstrap': 'True', 'preprocessor:extra_trees_preproc_for_regression:max_depth': 'None', 'preprocessor:extra_trees_preproc_for_regression:max_features': 2.94565663994554, 'regressor:gradient_boosting:subsample': 0.6467790993173455, 'one_hot_encoding:minimum_fraction': 0.0008248104404933544, 'preprocessor:extra_trees_preproc_for_regression:min_weight_fraction_leaf': 0.0, 'regressor:__choice__': 'gradient_boosting', 'regressor:gradient_boosting:min_samples_leaf': 8, 'rescaling:__choice__': 'normalize', 'preprocessor:__choice__': 'extra_trees_preproc_for_regression', 'regressor:gradient_boosting:max_leaf_nodes': 'None', 'regressor:gradient_boosting:loss': 'quantile', 'imputation:strategy': 'median', 'one_hot_encoding:use_minimum_fraction': 'True', 'regressor:gradient_boosting:min_weight_fraction_leaf': 0.0, 'regressor:gradient_boosting:max_features': 2.4067295242914817, 'regressor:gradient_boosting:min_samples_split': 4, 'regressor:gradient_boosting:n_estimators': 306, 'preprocessor:extra_trees_preproc_for_regression:min_samples_leaf': 1, 'preprocessor:extra_trees_preproc_for_regression:n_estimators': 100, 'preprocessor:extra_trees_preproc_for_regression:criterion': 'mse'},\n",
      "dataset_properties={\n",
      "  'multilabel': False,\n",
      "  'signed': False,\n",
      "  'sparse': False,\n",
      "  'target_type': 'regression',\n",
      "  'task': 4,\n",
      "  'multiclass': False})),\n",
      "]\n",
      "R2 score: 0.895878882834\n"
     ]
    }
   ],
   "source": [
    "feature_types = (['numerical'] * 3) + ['categorical'] + (['numerical'] * 9)\n",
    "X_train, X_test, y_train, y_test = \\\n",
    "    sklearn.model_selection.train_test_split(X, y, random_state=1)\n",
    "\n",
    "automl = autosklearn.regression.AutoSklearnRegressor(\n",
    "    time_left_for_this_task=120, per_run_time_limit=30,\n",
    "    tmp_folder='/tmp/autoslearn_regression_example_tmp',\n",
    "    output_folder='/tmp/autosklearn_regression_example_out')\n",
    "automl.fit(X_train, y_train, dataset_name='boston',\n",
    "           feat_type=feature_types)\n",
    "\n",
    "print(automl.show_models())\n",
    "predictions = automl.predict(X_test)\n",
    "print(\"R2 score:\", sklearn.metrics.r2_score(y_test, predictions))"
   ]
  },
  {
   "cell_type": "code",
   "execution_count": null,
   "metadata": {
    "collapsed": true
   },
   "outputs": [],
   "source": []
  }
 ],
 "metadata": {
  "kernelspec": {
   "display_name": "Python 3",
   "language": "python",
   "name": "python3"
  },
  "language_info": {
   "codemirror_mode": {
    "name": "ipython",
    "version": 3
   },
   "file_extension": ".py",
   "mimetype": "text/x-python",
   "name": "python",
   "nbconvert_exporter": "python",
   "pygments_lexer": "ipython3",
   "version": "3.5.3"
  },
  "latex_envs": {
   "bibliofile": "biblio.bib",
   "cite_by": "apalike",
   "current_citInitial": 1,
   "eqLabelWithNumbers": true,
   "eqNumInitial": 0
  },
  "toc": {
   "nav_menu": {
    "height": "12px",
    "width": "252px"
   },
   "navigate_menu": true,
   "number_sections": true,
   "sideBar": true,
   "threshold": 4,
   "toc_cell": false,
   "toc_section_display": "block",
   "toc_window_display": false
  }
 },
 "nbformat": 4,
 "nbformat_minor": 2
}
